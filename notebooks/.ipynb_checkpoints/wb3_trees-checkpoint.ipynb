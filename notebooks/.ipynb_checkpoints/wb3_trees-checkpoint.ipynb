{
 "cells": [
  {
   "cell_type": "markdown",
   "metadata": {
    "colab_type": "text",
    "id": "LJPK62dRaa_G"
   },
   "source": [
    "### Mounting your google drive on Colab Noetebook"
   ]
  },
  {
   "cell_type": "code",
   "execution_count": 23,
   "metadata": {
    "colab": {},
    "colab_type": "code",
    "id": "nMouNIqIaa_H"
   },
   "outputs": [],
   "source": [
    "from google.colab import drive\n",
    "drive.mount('/content/drive')"
   ]
  },
  {
   "cell_type": "code",
   "execution_count": 2,
   "metadata": {
    "colab": {
     "base_uri": "https://localhost:8080/",
     "height": 34
    },
    "colab_type": "code",
    "id": "ja0ar1Ypaa_N",
    "outputId": "5df1ae49-7e19-43a6-9a07-f5078e27426a"
   },
   "outputs": [
    {
     "name": "stdout",
     "output_type": "stream",
     "text": [
      "/content/drive/My Drive/workshopml/ML_workshop2020\n"
     ]
    }
   ],
   "source": [
    "## remplazá 'workshopml'\n",
    "# por el nombre que le hayas puesto a esa carpeta en drive si usaste otro distinto\n",
    "%cd drive/My Drive/workshopml/ML_workshop2020/  "
   ]
  },
  {
   "cell_type": "code",
   "execution_count": 3,
   "metadata": {
    "colab": {
     "base_uri": "https://localhost:8080/",
     "height": 275
    },
    "colab_type": "code",
    "id": "gkdm2Bn5HXvs",
    "outputId": "b21f7910-93ce-4b32-cf58-3779989ab15e"
   },
   "outputs": [
    {
     "name": "stderr",
     "output_type": "stream",
     "text": [
      "/usr/local/lib/python3.6/dist-packages/statsmodels/tools/_testing.py:19: FutureWarning: pandas.util.testing is deprecated. Use the functions in the public API at pandas.testing instead.\n",
      "  import pandas.util.testing as tm\n"
     ]
    },
    {
     "name": "stdout",
     "output_type": "stream",
     "text": [
      "Processing /root/.cache/pip/wheels/e7/f7/0f/b57055080cf8894906b3bd3616d2fc2bfd0b12d5161bcb24ac/shap-0.35.0-cp36-cp36m-linux_x86_64.whl\n",
      "Requirement already satisfied: scikit-learn in /usr/local/lib/python3.6/dist-packages (from shap) (0.22.2.post1)\n",
      "Requirement already satisfied: tqdm>4.25.0 in /usr/local/lib/python3.6/dist-packages (from shap) (4.41.1)\n",
      "Requirement already satisfied: scipy in /usr/local/lib/python3.6/dist-packages (from shap) (1.4.1)\n",
      "Requirement already satisfied: pandas in /usr/local/lib/python3.6/dist-packages (from shap) (1.0.5)\n",
      "Requirement already satisfied: numpy in /usr/local/lib/python3.6/dist-packages (from shap) (1.18.5)\n",
      "Requirement already satisfied: joblib>=0.11 in /usr/local/lib/python3.6/dist-packages (from scikit-learn->shap) (0.16.0)\n",
      "Requirement already satisfied: pytz>=2017.2 in /usr/local/lib/python3.6/dist-packages (from pandas->shap) (2018.9)\n",
      "Requirement already satisfied: python-dateutil>=2.6.1 in /usr/local/lib/python3.6/dist-packages (from pandas->shap) (2.8.1)\n",
      "Requirement already satisfied: six>=1.5 in /usr/local/lib/python3.6/dist-packages (from python-dateutil>=2.6.1->pandas->shap) (1.15.0)\n",
      "Installing collected packages: shap\n",
      "Successfully installed shap-0.35.0\n"
     ]
    }
   ],
   "source": [
    "import src.utility_functions as uf   ## cargo funciones\n",
    "# data manipulation\n",
    "import pandas as pd\n",
    "import numpy as np\n",
    "from operator import itemgetter\n",
    "\n",
    "\n",
    "## learning\n",
    "from sklearn.model_selection import train_test_split\n",
    "from sklearn.tree import DecisionTreeClassifier\n",
    "from sklearn.pipeline import Pipeline\n",
    "\n",
    "## preprocessing\n",
    "from sklearn.impute import SimpleImputer\n",
    "from sklearn.preprocessing import OneHotEncoder\n",
    "from sklearn.compose import ColumnTransformer\n",
    "from sklearn.preprocessing import StandardScaler\n",
    "\n",
    "\n",
    "### model performance\n",
    "from sklearn import metrics\n",
    "\n",
    "#ploting modules\n",
    "import matplotlib\n",
    "from matplotlib import pyplot as plt\n",
    "import seaborn as sns\n",
    "\n",
    "## Cross Validation\n",
    "from sklearn.model_selection import cross_val_score\n",
    "from sklearn.model_selection import ShuffleSplit\n",
    "from sklearn.model_selection import GridSearchCV\n",
    "\n",
    "\n",
    "## además cargo funciones específicas para este notebook\n",
    "try:\n",
    "    import category_encoders as ce\n",
    "except:\n",
    "    !pip install category_encoders\n",
    "\n",
    "\n",
    "from sklearn.model_selection import cross_val_score\n",
    "\n",
    "## Para guardar y levantar un objeto en pickle (ej. resultados de un gridsearch intensivo)\n",
    "import joblib as jlb\n",
    "\n",
    "\n",
    "## Hyperparameter optimization\n",
    "from sklearn.model_selection import GridSearchCV\n",
    "try:\n",
    "    from skopt import BayesSearchCV\n",
    "except: \n",
    "    !pip install scikit-optimize\n",
    "from skopt import BayesSearchCV\n",
    "from skopt.space import Real, Categorical, Integer\n",
    "# para optimizar vía gaussian process (secuencial). \n",
    "from skopt import gp_minimize\n",
    "from skopt.utils import use_named_args\n",
    "# para visualizar el gp secuencial\n",
    "from skopt import plots as skplots\n",
    "\n",
    "\n",
    "try:\n",
    "    import shap\n",
    "except:\n",
    "    !pip install shap\n",
    "    import shap\n",
    "\n",
    "\n"
   ]
  },
  {
   "cell_type": "code",
   "execution_count": 4,
   "metadata": {
    "colab": {},
    "colab_type": "code",
    "id": "lOKcoQxVISxR"
   },
   "outputs": [],
   "source": [
    "# Load data and define preprocessing\n",
    "SEED = 2718281\n",
    "targetcolumn = 'ClinvarHC'\n",
    "\n",
    "## esto asume que estas parado ya en la carpeta ppal del repositorio\n",
    "datapath = './data/clinvarHC_modeling.csv.gz'\n",
    "data = pd.read_csv(datapath,sep = ',',index_col='ChrPosRefAlt')\n",
    "X,y = data.drop([targetcolumn],axis = 1), data[[targetcolumn]]\n",
    "\n",
    "## train test\n",
    "X_train, X_test, y_train, y_test = train_test_split(X, y, test_size=0.50, random_state=SEED,stratify = y)\n",
    "Y_train = y_train[targetcolumn].ravel()\n",
    "Y_test = y_test[targetcolumn].ravel()\n",
    "\n",
    "categorical_feature_mask = X_train.dtypes==object       # esto nos da un vector booleano \n",
    "categorical_columns = X_train.columns[categorical_feature_mask].tolist()  # acá picnhamos los nombres de esas columnas\n",
    "numerical_columns = X_train.columns[~X_train.columns.isin(categorical_columns)].tolist() # defino las numéricas como el complemento de las categóricas \n",
    "\n",
    "\n",
    "numerical_transformer = Pipeline(steps=[\n",
    "    ('num_imputer', SimpleImputer(strategy='median')),\n",
    "    ('scaler', StandardScaler(with_mean=False))])  # Esto es una vacancia de Sklearn, no permite aún \"centrar\" matrizes sparse\n",
    "\n",
    "\n",
    "categorical_transformer = Pipeline(steps=[\n",
    "    ('cat_imputer', SimpleImputer(strategy='constant', fill_value='missing')),  \n",
    "    ('onehot', OneHotEncoder(handle_unknown='ignore'))])      \n",
    "\n",
    "\n",
    "preprocessor = ColumnTransformer(transformers = [\n",
    "    ('num', numerical_transformer,numerical_columns),\n",
    "    ('cat', categorical_transformer,categorical_columns)\n",
    "])\n"
   ]
  },
  {
   "cell_type": "code",
   "execution_count": 5,
   "metadata": {
    "colab": {
     "base_uri": "https://localhost:8080/",
     "height": 51
    },
    "colab_type": "code",
    "id": "LHoHj9yFaa_W",
    "outputId": "28f4b7ff-5784-4bd8-e255-5ad9c201cb6a"
   },
   "outputs": [
    {
     "name": "stdout",
     "output_type": "stream",
     "text": [
      "(1407, 34)\n",
      "(703, 34) (704, 34)\n"
     ]
    }
   ],
   "source": [
    "print(X.shape)\n",
    "print(X_train.shape, X_test.shape)\n"
   ]
  },
  {
   "cell_type": "markdown",
   "metadata": {
    "colab_type": "text",
    "id": "02V-wjd_aa_c"
   },
   "source": [
    "### Target encoding"
   ]
  },
  {
   "cell_type": "code",
   "execution_count": 6,
   "metadata": {
    "colab": {},
    "colab_type": "code",
    "id": "f5jdLFuvaa_i"
   },
   "outputs": [],
   "source": [
    "?DecisionTreeClassifier"
   ]
  },
  {
   "cell_type": "code",
   "execution_count": 7,
   "metadata": {
    "colab": {},
    "colab_type": "code",
    "id": "BgU-icbjaa_n"
   },
   "outputs": [],
   "source": [
    "pipeline = Pipeline(steps = [('preprocessing',preprocessor),\n",
    "                             ('clasificador',DecisionTreeClassifier(random_state = SEED))])  \n"
   ]
  },
  {
   "cell_type": "code",
   "execution_count": 8,
   "metadata": {
    "colab": {
     "base_uri": "https://localhost:8080/",
     "height": 34
    },
    "colab_type": "code",
    "id": "3nRbwcUOaa_s",
    "outputId": "404f0083-7789-404f-f916-9200f485d627"
   },
   "outputs": [
    {
     "name": "stdout",
     "output_type": "stream",
     "text": [
      "0.53752748139967 0.0656701037428048\n"
     ]
    }
   ],
   "source": [
    "res= cross_val_score(pipeline, X_train, Y_train, cv=5,scoring = 'average_precision')\n",
    "print(np.mean(res),np.std(res))"
   ]
  },
  {
   "cell_type": "markdown",
   "metadata": {
    "colab_type": "text",
    "id": "ESywKaPtaa_w"
   },
   "source": [
    "## Explorarción de hiperparámetros\n",
    "Acá les dejo algo de lectura online:\n",
    "\n",
    "__[Acá, explicado cada hyperp](https://towardsdatascience.com/how-to-tune-a-decision-tree-f03721801680)__  \n",
    "\n",
    "\n",
    "## Pueden ver otro notebook online de tuneado individual de parámetros ###\n",
    "__[Acá, exploración individual](https://medium.com/@mohtedibf/indepth-parameter-tuning-for-decision-tree-6753118a03c3)__\n",
    "\n",
    "\n",
    "##### Básicamente tenemos:\n",
    "\n",
    "* ***Max number of features***\n",
    "\n",
    "* ***Criterion*** Métrica para medir la impuresa: Gini impurity ó Entropía.\n",
    "\n",
    "* ***Spliter*** Nos da la opción de elegir el mejor split en cada rama,  ó de aleatorizar ese proceso (random). \n",
    "\n",
    "\n",
    "\n",
    "*** Hyperparámetros de pre-pruning*** (early stopping)\n",
    "\n",
    "###### pre-prunning a nivel global del árbol\n",
    "* ***Max Depth*** Máxima profundidad del árbol\n",
    "\n",
    "* ***Max Leaf Nodes*** Máximo número de nodos\n",
    "\n",
    "* ***min Samples of leaf *** Número (o fracción) mínima para una hoja del árbol.\n",
    "\n",
    "* ***min weight fraction leaf*** Idem anterior pero considerando pesos de cada ítem a clasificar.\n",
    "\n",
    "###### A nivel de nodo\n",
    "* ***min Samples Split*** número mínimo de muestras que debe haber para generar un nuevo nodo. \n",
    "\n",
    "* ***min Impurity decrease*** Umbral mínimo para el decrecimiento de la impureza necesario para generar un nuevo nodo\n",
    "\n",
    "\n",
    "\n",
    "\n",
    "##### el pre-pruning corre riesgo de una detención prematura del árbol, pero cuando lo ejecutamos de la mano de validación cruzada ese riesgo se reduce (a menos que nos quedemos corto con el espacio de parámetros considerado) \n",
    "\n",
    "\n",
    "***ccp_alpha*** Parámetro de complejidad para el post pruning \n",
    "### Lectura (práctica) básica de referencia \n",
    "* __[post_pruning_cost_complexity](https://scikit-learn.org/stable/auto_examples/tree/plot_cost_complexity_pruning.html)_\n",
    "* Ojo, post pruning no asegura buena generalización, pues se prunean nodos de "
   ]
  },
  {
   "cell_type": "markdown",
   "metadata": {
    "colab_type": "text",
    "id": "7VinzjXST22N"
   },
   "source": [
    "### Veamos los parámetros por defecto del árbol"
   ]
  },
  {
   "cell_type": "code",
   "execution_count": 9,
   "metadata": {
    "colab": {
     "base_uri": "https://localhost:8080/",
     "height": 119
    },
    "colab_type": "code",
    "id": "d_1TzRS5aa_x",
    "outputId": "f27813a7-e377-4ebb-a107-7c3f732eb07e"
   },
   "outputs": [
    {
     "data": {
      "text/plain": [
       "DecisionTreeClassifier(ccp_alpha=0.0, class_weight=None, criterion='gini',\n",
       "                       max_depth=None, max_features=None, max_leaf_nodes=None,\n",
       "                       min_impurity_decrease=0.0, min_impurity_split=None,\n",
       "                       min_samples_leaf=1, min_samples_split=2,\n",
       "                       min_weight_fraction_leaf=0.0, presort='deprecated',\n",
       "                       random_state=2718281, splitter='best')"
      ]
     },
     "execution_count": 9,
     "metadata": {
      "tags": []
     },
     "output_type": "execute_result"
    }
   ],
   "source": [
    "pipeline.named_steps['clasificador']"
   ]
  },
  {
   "cell_type": "markdown",
   "metadata": {
    "colab_type": "text",
    "id": "svzDRGc1aa_1"
   },
   "source": [
    "### Analizemos cómo impacta la máxima profundiad del arbol admitida (Max Depth)"
   ]
  },
  {
   "cell_type": "code",
   "execution_count": 10,
   "metadata": {
    "colab": {
     "base_uri": "https://localhost:8080/",
     "height": 293
    },
    "colab_type": "code",
    "id": "xHy2VALqaa_1",
    "outputId": "076cae20-b100-4cc9-b42f-79065eaedbdd"
   },
   "outputs": [
    {
     "data": {
      "image/png": "[encoded data removed]",
      "text/plain": [
       "<Figure size 504x288 with 1 Axes>"
      ]
     },
     "metadata": {
      "tags": []
     },
     "output_type": "display_data"
    }
   ],
   "source": [
    "name = 'max_depth'\n",
    "value_range = np.linspace(1, 20, 20, endpoint=True)\n",
    "\n",
    "## defino grilla\n",
    "gridname = 'clasificador__%s'%name\n",
    "param_grid = [\n",
    "  {gridname:value_range}\n",
    " ]\n",
    "\n",
    "\n",
    "search = GridSearchCV(pipeline, param_grid, \n",
    "                      cv=5,return_train_score = True,\n",
    "                     scoring = 'average_precision').fit(X_train, Y_train)\n",
    "\n",
    "matplotlib.rcParams['figure.figsize'] = [7, 4]\n",
    "uf.my_train_test_plot(gridsearch=search,grid=param_grid,hyp=name,ylim = [0.4,1.05], ylabel= 'avg_precision')\n"
   ]
  },
  {
   "cell_type": "markdown",
   "metadata": {
    "colab_type": "text",
    "id": "HYcPalYkowtS"
   },
   "source": [
    "### Ya que vamos a explorar bastante, les puse un atajo empaquetado en utility functions que le pasan:\n",
    "* pipe: el pipeline\n",
    "* hyp: el nombre del hyperparámetro que quieren mirar\n",
    "* range: el rango donde quieren mirar\n"
   ]
  },
  {
   "cell_type": "code",
   "execution_count": 11,
   "metadata": {
    "colab": {
     "base_uri": "https://localhost:8080/",
     "height": 293
    },
    "colab_type": "code",
    "id": "0TRFdj6zYBUo",
    "outputId": "206be637-bcf6-4d3b-d420-e1adfe1569f1"
   },
   "outputs": [
    {
     "data": {
      "image/png": "[encoded data removed]",
      "text/plain": [
       "<Figure size 504x288 with 1 Axes>"
      ]
     },
     "metadata": {
      "tags": []
     },
     "output_type": "display_data"
    }
   ],
   "source": [
    "#pipeline.named_steps['clasificador'].set_params(**{'splitter':'random'})\n",
    "#pipeline.named_steps['clasificador'].set_params(**{'criterion':'entropy'})\n",
    "uf.univariate_exploring(pipeline,X= X_train,Y = Y_train,hyp='max_depth', \n",
    "                        range = np.linspace(1, 20, 20, endpoint=True),\n",
    "                        cv = 5,ylim = [0.4,1.05])"
   ]
  },
  {
   "cell_type": "markdown",
   "metadata": {
    "colab_type": "text",
    "id": "y75yaRExabAB"
   },
   "source": [
    "### Veamos el efecto que tiene el threshold que fijamos a uno nodo (en número de muestras) para que pueda ser dividido (Min samples split)"
   ]
  },
  {
   "cell_type": "code",
   "execution_count": 12,
   "metadata": {
    "colab": {
     "base_uri": "https://localhost:8080/",
     "height": 293
    },
    "colab_type": "code",
    "id": "ovklMFDkpRrv",
    "outputId": "154753ea-2634-47b8-a245-e05fe2bdb3a1"
   },
   "outputs": [
    {
     "data": {
      "image/png": "[encoded data removed]",
      "text/plain": [
       "<Figure size 504x288 with 1 Axes>"
      ]
     },
     "metadata": {
      "tags": []
     },
     "output_type": "display_data"
    }
   ],
   "source": [
    "uf.univariate_exploring(pipeline,X= X_train, Y = Y_train, hyp = 'min_samples_split', \n",
    "                     range = np.linspace(0.05, 1.0, 20, endpoint=True)\n",
    "                     ,ylim = [0.4,1.05])"
   ]
  },
  {
   "cell_type": "markdown",
   "metadata": {
    "colab_type": "text",
    "id": "0uucEq-MUlgc"
   },
   "source": [
    "### GridSearch"
   ]
  },
  {
   "cell_type": "code",
   "execution_count": 13,
   "metadata": {
    "colab": {},
    "colab_type": "code",
    "id": "5X71qdkFfQpr"
   },
   "outputs": [],
   "source": [
    "pipeline = Pipeline(steps = [('preprocessing',preprocessor),\n",
    "                             ('clasificador',DecisionTreeClassifier(random_state = SEED))]) \n",
    "\n",
    "max_depths = np.linspace(3, 7, 5, endpoint=True)\n",
    "min_samples_splits = np.linspace(0.05, 0.2, 5, endpoint=True)\n",
    "max_features= np.linspace(0.15, 0.6, 5, endpoint=True)\n",
    "min_samples_leafs = np.linspace(0.01, 0.2, 5, endpoint=True)\n",
    "#min_impurity_decrease = np.linspace(0,0.01, 5, endpoint=True)\n",
    "\n",
    "param_grid = [\n",
    "  {\n",
    "      'clasificador__max_depth':max_depths,\n",
    "      'clasificador__min_samples_split':min_samples_splits,\n",
    "      'clasificador__max_features':max_features,\n",
    "      'clasificador__min_samples_leaf':min_samples_leafs\n",
    "#      'clasificador__min_impurity_decrease':min_impurity_decrease\n",
    "  }\n",
    " ]\n",
    "search = GridSearchCV(pipeline, param_grid, \n",
    "                      cv=10,return_train_score = True,\n",
    "                     scoring = 'average_precision').fit(X_train, Y_train)\n",
    "\n",
    "#jlb.dump(search, 'DecisionTree.pkl')                           ### Para guardar el modelo\n",
    "#my_train_test_plot(search,param_grid,'min_samples_leaf')"
   ]
  },
  {
   "cell_type": "code",
   "execution_count": 14,
   "metadata": {
    "colab": {
     "base_uri": "https://localhost:8080/",
     "height": 136
    },
    "colab_type": "code",
    "id": "gn4Apz0Qt6tq",
    "outputId": "ee64496c-3c0e-4c88-c89e-a7fdfb73c7af"
   },
   "outputs": [
    {
     "name": "stdout",
     "output_type": "stream",
     "text": [
      "performance best classif 0.7940\n",
      "best hyperparameters: \n",
      "\n"
     ]
    },
    {
     "data": {
      "text/plain": [
       "{'clasificador__max_depth': 6.0,\n",
       " 'clasificador__max_features': 0.6,\n",
       " 'clasificador__min_samples_leaf': 0.01,\n",
       " 'clasificador__min_samples_split': 0.16250000000000003}"
      ]
     },
     "execution_count": 14,
     "metadata": {
      "tags": []
     },
     "output_type": "execute_result"
    }
   ],
   "source": [
    "print('performance best classif %.4f'%search.best_score_)\n",
    "print('best hyperparameters: \\n')\n",
    "\n",
    "search.best_params_"
   ]
  },
  {
   "cell_type": "code",
   "execution_count": 15,
   "metadata": {
    "colab": {
     "base_uri": "https://localhost:8080/",
     "height": 34
    },
    "colab_type": "code",
    "id": "aTbre7d3O3mc",
    "outputId": "0ad2e0d3-dde4-483f-eb72-2217436645e2"
   },
   "outputs": [
    {
     "name": "stdout",
     "output_type": "stream",
     "text": [
      "0.7940279422315922 0.07822727236875665\n"
     ]
    }
   ],
   "source": [
    "## para ver la varianza que tuvo tengo que volver a entrenar via Kfold\n",
    "aux= cross_val_score(search.best_estimator_, X_train, Y_train, cv=10,scoring = 'average_precision')\n",
    "print(np.mean(aux),np.std(aux))"
   ]
  },
  {
   "cell_type": "code",
   "execution_count": 16,
   "metadata": {
    "colab": {
     "base_uri": "https://localhost:8080/",
     "height": 34
    },
    "colab_type": "code",
    "id": "dVU8ABmbuMVY",
    "outputId": "790f609b-cf01-44eb-dfd4-0d2243de93ae"
   },
   "outputs": [
    {
     "data": {
      "text/plain": [
       "0.6743769143306211"
      ]
     },
     "execution_count": 16,
     "metadata": {
      "tags": []
     },
     "output_type": "execute_result"
    }
   ],
   "source": [
    "# en el test? \n",
    "metrics.average_precision_score(Y_test,search.best_estimator_.predict_proba(X_test)[:,1])"
   ]
  },
  {
   "cell_type": "markdown",
   "metadata": {
    "colab_type": "text",
    "id": "2gXBSAG8Hiy-"
   },
   "source": [
    "### Veamos, movimos 4 hyperparámetros, en 5 puntos cada uno. Osea corrimos 5^4 = 625 iteraciones (x 5 si considerás el 5FoldValid)! \n",
    "*  Estamos invirtiendo bien el tiempo de entrenamiento? \n",
    "*  Qué otra forma un poco más inteligente podemos usar para explorar?\n",
    "*  Si nos movemos random? por la grilla? o random en los intervalos de búsqueda planteados?\n",
    "*  Seguimos sobreajustando!! "
   ]
  },
  {
   "cell_type": "markdown",
   "metadata": {
    "colab_type": "text",
    "id": "0u3uMmA6lPak"
   },
   "source": [
    "## Y en un solo paso... La magia del ensemble. La sabiduría de las masas"
   ]
  },
  {
   "cell_type": "code",
   "execution_count": 17,
   "metadata": {
    "colab": {
     "base_uri": "https://localhost:8080/",
     "height": 34
    },
    "colab_type": "code",
    "id": "cDPWnb75lwiI",
    "outputId": "3d1f3fe2-0e25-432e-a6bc-4c315a1059d6"
   },
   "outputs": [
    {
     "name": "stdout",
     "output_type": "stream",
     "text": [
      "0.886948535698169 0.059997965119361805\n"
     ]
    }
   ],
   "source": [
    "from sklearn.ensemble import RandomForestClassifier\n",
    "pipeline = Pipeline(steps = [('preprocessing',preprocessor),\n",
    "                             ('clasificador',RandomForestClassifier(random_state = SEED,n_estimators=500))])  \n",
    "\n",
    "res= cross_val_score(pipeline, X_train, Y_train, cv=10,scoring = 'average_precision')\n",
    "print(np.mean(res),np.std(res))"
   ]
  },
  {
   "cell_type": "code",
   "execution_count": 18,
   "metadata": {
    "colab": {
     "base_uri": "https://localhost:8080/",
     "height": 34
    },
    "colab_type": "code",
    "id": "7u8yV2fbmVGy",
    "outputId": "c9cb4e77-aa13-4171-c9e9-0740b18398e3"
   },
   "outputs": [
    {
     "data": {
      "text/plain": [
       "0.8381097026969974"
      ]
     },
     "execution_count": 18,
     "metadata": {
      "tags": []
     },
     "output_type": "execute_result"
    }
   ],
   "source": [
    "pipeline.fit(X_train,Y_train)\n",
    "ypred_test = pipeline.predict_proba(X_test)[:,1]\n",
    "metrics.average_precision_score(Y_test,ypred_test)"
   ]
  },
  {
   "cell_type": "markdown",
   "metadata": {
    "colab_type": "text",
    "id": "PbLjOxRTnBfw"
   },
   "source": [
    "## Nuestro random Forest sin ajustarle ni un solo hiperparámetro:\n",
    "* aplastó al decision tree\n",
    "* Mejoró el resultadodo de una LR?\n",
    "* Si hubo tal mejora es estadísticamente significativa o es ruido?\n"
   ]
  },
  {
   "cell_type": "markdown",
   "metadata": {
    "colab_type": "text",
    "id": "arz7nGJPuaDf"
   },
   "source": [
    "## Guardemos el modelo"
   ]
  },
  {
   "cell_type": "code",
   "execution_count": 19,
   "metadata": {
    "colab": {},
    "colab_type": "code",
    "id": "3Cqt21bnumpg"
   },
   "outputs": [],
   "source": [
    "res = y_test.copy()\n",
    "res['y_pred'] = ypred_test\n",
    "res.to_csv('./models/RF_wholedata_testing_set.tsv',sep = '\\t')\n"
   ]
  },
  {
   "cell_type": "markdown",
   "metadata": {
    "colab_type": "text",
    "id": "HFd_Bj9bu_oa"
   },
   "source": [
    "## Ploteando el feature Imporance del RF"
   ]
  },
  {
   "cell_type": "code",
   "execution_count": 20,
   "metadata": {
    "colab": {},
    "colab_type": "code",
    "id": "8qnPmyLzvxLS"
   },
   "outputs": [],
   "source": [
    "numerical_names = pipeline.named_steps['preprocessing'].transformers[0][2]\n",
    "categorical_output_names = pipeline.named_steps['preprocessing'].named_transformers_['cat'].named_steps['onehot'].get_feature_names().tolist()\n",
    "\n",
    "cols = numerical_names + categorical_output_names "
   ]
  },
  {
   "cell_type": "code",
   "execution_count": 2,
   "metadata": {
    "colab": {
     "base_uri": "https://localhost:8080/",
     "height": 652
    },
    "colab_type": "code",
    "id": "PDeAfKETvD7E",
    "outputId": "7468983c-0474-4fd7-b2fc-2bd4c09469d2"
   },
   "outputs": [
    {
     "ename": "NameError",
     "evalue": "name 'matplotlib' is not defined",
     "output_type": "error",
     "traceback": [
      "\u001b[0;31m---------------------------------------------------------------------------\u001b[0m",
      "\u001b[0;31mNameError\u001b[0m                                 Traceback (most recent call last)",
      "\u001b[0;32m<ipython-input-2-0b93b73f5a94>\u001b[0m in \u001b[0;36m<module>\u001b[0;34m\u001b[0m\n\u001b[0;32m----> 1\u001b[0;31m \u001b[0mmatplotlib\u001b[0m\u001b[0;34m.\u001b[0m\u001b[0mrcParams\u001b[0m\u001b[0;34m[\u001b[0m\u001b[0;34m'figure.figsize'\u001b[0m\u001b[0;34m]\u001b[0m \u001b[0;34m=\u001b[0m \u001b[0;34m[\u001b[0m\u001b[0;36m10\u001b[0m\u001b[0;34m,\u001b[0m \u001b[0;36m8\u001b[0m\u001b[0;34m]\u001b[0m\u001b[0;34m\u001b[0m\u001b[0;34m\u001b[0m\u001b[0m\n\u001b[0m\u001b[1;32m      2\u001b[0m \u001b[0mclf\u001b[0m \u001b[0;34m=\u001b[0m \u001b[0mpipeline\u001b[0m\u001b[0;34m.\u001b[0m\u001b[0mnamed_steps\u001b[0m\u001b[0;34m[\u001b[0m\u001b[0;34m'clasificador'\u001b[0m\u001b[0;34m]\u001b[0m\u001b[0;34m\u001b[0m\u001b[0;34m\u001b[0m\u001b[0m\n\u001b[1;32m      3\u001b[0m \u001b[0mfi\u001b[0m \u001b[0;34m=\u001b[0m \u001b[0mpd\u001b[0m\u001b[0;34m.\u001b[0m\u001b[0mSeries\u001b[0m\u001b[0;34m(\u001b[0m\u001b[0mclf\u001b[0m\u001b[0;34m.\u001b[0m\u001b[0mfeature_importances_\u001b[0m\u001b[0;34m,\u001b[0m\u001b[0mindex\u001b[0m \u001b[0;34m=\u001b[0m \u001b[0mcols\u001b[0m \u001b[0;34m)\u001b[0m\u001b[0;34m\u001b[0m\u001b[0;34m\u001b[0m\u001b[0m\n\u001b[1;32m      4\u001b[0m \u001b[0mfi\u001b[0m\u001b[0;34m.\u001b[0m\u001b[0msort_values\u001b[0m\u001b[0;34m(\u001b[0m\u001b[0mascending\u001b[0m\u001b[0;34m=\u001b[0m\u001b[0;32mFalse\u001b[0m\u001b[0;34m)\u001b[0m\u001b[0;34m[\u001b[0m\u001b[0;36m0\u001b[0m\u001b[0;34m:\u001b[0m\u001b[0;36m20\u001b[0m\u001b[0;34m]\u001b[0m\u001b[0;34m.\u001b[0m\u001b[0mplot\u001b[0m\u001b[0;34m(\u001b[0m\u001b[0mkind\u001b[0m \u001b[0;34m=\u001b[0m \u001b[0;34m'barh'\u001b[0m\u001b[0;34m)\u001b[0m\u001b[0;34m\u001b[0m\u001b[0;34m\u001b[0m\u001b[0m\n",
      "\u001b[0;31mNameError\u001b[0m: name 'matplotlib' is not defined"
     ]
    }
   ],
   "source": [
    "matplotlib.rcParams['figure.figsize'] = [10, 8]\n",
    "clf = pipeline.named_steps['clasificador']\n",
    "fi = pd.Series(clf.feature_importances_,index = cols )\n",
    "fi.sort_values(ascending=False)[0:20].plot(kind = 'barh')\n"
   ]
  },
  {
   "cell_type": "markdown",
   "metadata": {
    "colab_type": "text",
    "id": "6cnvAoW3w0u5"
   },
   "source": [
    "### Ojo con la interpretacion del feature importance!\n",
    "\n",
    "* Aparecen features correlacionados?\n"
   ]
  }
 ],
 "metadata": {
  "colab": {
   "collapsed_sections": [],
   "name": "wb3_trees.ipynb",
   "provenance": []
  },
  "kernelspec": {
   "display_name": "Python 3",
   "language": "python",
   "name": "python3"
  },
  "language_info": {
   "codemirror_mode": {
    "name": "ipython",
    "version": 3
   },
   "file_extension": ".py",
   "mimetype": "text/x-python",
   "name": "python",
   "nbconvert_exporter": "python",
   "pygments_lexer": "ipython3",
   "version": "3.6.9"
  }
 },
 "nbformat": 4,
 "nbformat_minor": 1
}
